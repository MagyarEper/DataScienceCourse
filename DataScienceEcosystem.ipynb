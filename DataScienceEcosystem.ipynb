{
  "metadata": {
    "kernelspec": {
      "name": "python",
      "display_name": "Python (Pyodide)",
      "language": "python"
    },
    "language_info": {
      "codemirror_mode": {
        "name": "python",
        "version": 3
      },
      "file_extension": ".py",
      "mimetype": "text/x-python",
      "name": "python",
      "nbconvert_exporter": "python",
      "pygments_lexer": "ipython3",
      "version": "3.8"
    }
  },
  "nbformat_minor": 4,
  "nbformat": 4,
  "cells": [
    {
      "cell_type": "markdown",
      "source": "#### **Exercise 2: Create markdown cell with title of the notebook**\n# Data Science Tools and Ecosystem",
      "metadata": {}
    },
    {
      "cell_type": "markdown",
      "source": "#### **Exercise 3 - Create a markdown cell for an introduction**<br>\nIn this notebook, Data Science Tools and Ecosystems are summarized.",
      "metadata": {}
    },
    {
      "cell_type": "markdown",
      "source": "#### **Exercise 10 - Insert a markdown cell to list Objectives**\n**Objectives**\n- List popular languages for Data Science\n- Making markdown cells in Jupyter\n- Writing code in Jupyter",
      "metadata": {}
    },
    {
      "cell_type": "markdown",
      "source": "#### **Exercise 4 - Create a markdown cell to list data science languages**<br>\n**Some of the popular languages that Data Scientists use are:**\n1. Python\n2. R\n3. Julia",
      "metadata": {}
    },
    {
      "cell_type": "markdown",
      "source": "#### **Exercise 5 - Create a markdown cell to list data science libraries**\n**Some of the commonly used libraries used by Data Scientists include:**\n1. Pandas\n2. Matplotlib\n3. Scikit-learn",
      "metadata": {}
    },
    {
      "cell_type": "markdown",
      "source": "#### **Exercise 6 - Create a markdown cell with a table of Data Science tools**\n|Data Science Tools|\n|-----|\n|Jupyter Notebook|\n|Apache Hadoop|\n|Apache Spark|\n-----",
      "metadata": {}
    },
    {
      "cell_type": "markdown",
      "source": "#### **Exercise 7 - Create a markdown cell introducing arithmetic expression examples**\n### Below are a few examples of evaluating arithmetic expressions in Python",
      "metadata": {}
    },
    {
      "cell_type": "markdown",
      "source": "**Exercise 8 - Create a code cell to multiply and add numbers**",
      "metadata": {}
    },
    {
      "cell_type": "code",
      "source": "#This a simple arithmetic expression to mutiply then add integers\n(3*4)+5",
      "metadata": {
        "trusted": true
      },
      "outputs": [
        {
          "execution_count": 1,
          "output_type": "execute_result",
          "data": {
            "text/plain": "17"
          },
          "metadata": {}
        }
      ],
      "execution_count": 1
    },
    {
      "cell_type": "markdown",
      "source": "#### **Exercise 9 - Create a code cell to convert minutes to hours**",
      "metadata": {}
    },
    {
      "cell_type": "code",
      "source": "minutes = 200\n#This will convert 200 minutes to hours by diving by 60\ndef minutesToHours(minutes):\n    return minutes / 60\n\nminutesToHours(minutes)",
      "metadata": {
        "trusted": true
      },
      "outputs": [
        {
          "execution_count": 2,
          "output_type": "execute_result",
          "data": {
            "text/plain": "3.3333333333333335"
          },
          "metadata": {}
        }
      ],
      "execution_count": 2
    },
    {
      "cell_type": "markdown",
      "source": "#### **Exercise 11 - Create a markdown cell to indicate the Author's name**\n## Author\nMakai Sándor",
      "metadata": {}
    },
    {
      "cell_type": "code",
      "source": "",
      "metadata": {
        "trusted": true
      },
      "outputs": [],
      "execution_count": null
    }
  ]
}